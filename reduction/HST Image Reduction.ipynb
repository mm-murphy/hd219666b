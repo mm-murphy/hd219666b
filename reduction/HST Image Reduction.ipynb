{
 "cells": [
  {
   "cell_type": "markdown",
   "metadata": {},
   "source": [
    "In this notebook, I extract the broadband flux time series as well as the spectrophometric time series (i.e. the raw transmission spectrum) from our HST data. "
   ]
  },
  {
   "cell_type": "code",
   "execution_count": 1,
   "metadata": {},
   "outputs": [],
   "source": [
    "# Importing modules we need:\n",
    "import numpy as np\n",
    "import matplotlib.pyplot as plt\n",
    "import astropy\n",
    "import astropy.convolution as ac\n",
    "from astropy.io import fits\n",
    "# Importing HST extraction functions\n",
    "import HST_Extract_Funcs as hst"
   ]
  },
  {
   "cell_type": "markdown",
   "metadata": {},
   "source": [
    "I've placed the data in a separate directory off my home directory. Thomas' file structure that loads in the data, however, needs the data held in a directory that branches from the present working directory. Therefore, I'll need to edit this file structure to find where I've placed the data.\n",
    "\n",
    "If the below block of code is commented out, then I've already done this so skip to next block to load in the new file path structure"
   ]
  },
  {
   "cell_type": "code",
   "execution_count": 3,
   "metadata": {},
   "outputs": [],
   "source": [
    "# # Load in Thomas' file structure\n",
    "# FSload = np.load('T_FileStructure.npz', allow_pickle=True)\n",
    "# data_dict = FSload['filedict'].item()   # dictionary containing paths to the image files\n",
    "\n",
    "# # Make a deep copy that I can edit\n",
    "# import copy\n",
    "# ddcopy = copy.deepcopy(data_dict)\n",
    "# # Now to edit the paths within the copy dictionary\n",
    "# for visit in data_dict:\n",
    "#     # Go through each visit\n",
    "#     for orbit in data_dict[visit]:\n",
    "#         # Go through each orbit in that visit\n",
    "#         #\n",
    "#         # Each orbit has only one direct image\n",
    "#         # First, edit this direct image's path\n",
    "#         oldpath = data_dict[visit][orbit]['direct']\n",
    "#         newpath = oldpath.replace('./Data/', '/home/matthew/data/hd219666b/hst_images/')\n",
    "#         ddcopy[visit][orbit]['direct'] = newpath\n",
    "#         # Now looping through this orbit's grism images and editing their paths\n",
    "#         grismpaths = data_dict[visit][orbit]['grism']\n",
    "#         for i, oldpath in enumerate(grismpaths):\n",
    "#             newpath = oldpath.replace('./Data/', '/home/matthew/data/hd219666b/hst_images/')\n",
    "#             ddcopy[visit][orbit]['grism'][i] = newpath\n",
    "            \n",
    "# # Saving this edited dictionary as the new file structure dictionary\n",
    "# np.savez('FilePaths.npz', filedict=ddcopy)"
   ]
  },
  {
   "cell_type": "markdown",
   "metadata": {},
   "source": [
    "Loading in the dictionary containing the file paths to our data"
   ]
  },
  {
   "cell_type": "code",
   "execution_count": 2,
   "metadata": {},
   "outputs": [],
   "source": [
    "FPload = np.load('FilePaths.npz', allow_pickle=True)\n",
    "datapaths = FPload['filedict'].item()   # dictionary containing paths to the image files"
   ]
  },
  {
   "cell_type": "markdown",
   "metadata": {},
   "source": [
    "Defining the dictionary that will hold the resulting extracted data"
   ]
  },
  {
   "cell_type": "code",
   "execution_count": 3,
   "metadata": {},
   "outputs": [],
   "source": [
    "exdict = {\n",
    "    'visit1':{\n",
    "        'orbit1':{\n",
    "            'spectrum':[ [] for _ in range(len(datapaths['visit1']['orbit1']['grism']))],\n",
    "            'broadband':[ 0 for _ in range(len(datapaths['visit1']['orbit1']['grism']))]},\n",
    "        'orbit2':{\n",
    "            'spectrum':[ [] for _ in range(len(datapaths['visit1']['orbit2']['grism']))],\n",
    "            'broadband':[ 0 for _ in range(len(datapaths['visit1']['orbit1']['grism']))]},\n",
    "        'orbit3':{\n",
    "            'spectrum':[ [] for _ in range(len(datapaths['visit1']['orbit3']['grism']))],\n",
    "            'broadband':[ 0 for _ in range(len(datapaths['visit1']['orbit1']['grism']))]},\n",
    "        'orbit4':{\n",
    "            'spectrum':[ [] for _ in range(len(datapaths['visit1']['orbit4']['grism']))],\n",
    "            'broadband':[ 0 for _ in range(len(datapaths['visit1']['orbit1']['grism']))]}\n",
    "    },\n",
    "   'visit2':{\n",
    "        'orbit1':{\n",
    "            'spectrum':[ [] for _ in range(len(datapaths['visit2']['orbit1']['grism']))],\n",
    "            'broadband':[ 0 for _ in range(len(datapaths['visit1']['orbit1']['grism']))]},\n",
    "        'orbit2':{\n",
    "            'spectrum':[ [] for _ in range(len(datapaths['visit2']['orbit2']['grism']))],\n",
    "            'broadband':[ 0 for _ in range(len(datapaths['visit1']['orbit1']['grism']))]},\n",
    "        'orbit3':{\n",
    "            'spectrum':[ [] for _ in range(len(datapaths['visit2']['orbit3']['grism']))],\n",
    "            'broadband':[ 0 for _ in range(len(datapaths['visit1']['orbit1']['grism']))]},\n",
    "        'orbit4':{\n",
    "            'spectrum':[ [] for _ in range(len(datapaths['visit2']['orbit4']['grism']))],\n",
    "            'broadband':[ 0 for _ in range(len(datapaths['visit1']['orbit1']['grism']))]}\n",
    "    },\n",
    "   'visit3':{\n",
    "        'orbit1':{\n",
    "            'spectrum':[ [] for _ in range(len(datapaths['visit3']['orbit1']['grism']))],\n",
    "            'broadband':[ 0 for _ in range(len(datapaths['visit1']['orbit1']['grism']))]},\n",
    "        'orbit2':{\n",
    "            'spectrum':[ [] for _ in range(len(datapaths['visit3']['orbit2']['grism']))],\n",
    "            'broadband':[ 0 for _ in range(len(datapaths['visit1']['orbit1']['grism']))]},\n",
    "        'orbit3':{\n",
    "            'spectrum':[ [] for _ in range(len(datapaths['visit3']['orbit3']['grism']))],\n",
    "            'broadband':[ 0 for _ in range(len(datapaths['visit1']['orbit1']['grism']))]},\n",
    "        'orbit4':{\n",
    "            'spectrum':[ [] for _ in range(len(datapaths['visit3']['orbit4']['grism']))],\n",
    "            'broadband':[ 0 for _ in range(len(datapaths['visit1']['orbit1']['grism']))]}\n",
    "    },\n",
    "}"
   ]
  },
  {
   "cell_type": "code",
   "execution_count": 4,
   "metadata": {
    "scrolled": true
   },
   "outputs": [
    {
     "name": "stdout",
     "output_type": "stream",
     "text": [
      "On orbit  orbit1\n",
      "Working on image  0\n",
      "Working on image  1\n",
      "Working on image  2\n",
      "Working on image  3\n",
      "Working on image  4\n",
      "Working on image  5\n",
      "Working on image  6\n",
      "Working on image  7\n",
      "Working on image  8\n",
      "Working on image  9\n",
      "Working on image  10\n",
      "Working on image  11\n",
      "Working on image  12\n",
      "Working on image  13\n",
      "Working on image  14\n",
      "Working on image  15\n",
      "Working on image  16\n",
      "On orbit  orbit2\n",
      "Working on image  0\n",
      "Working on image  1\n",
      "Working on image  2\n",
      "Working on image  3\n",
      "Working on image  4\n",
      "Working on image  5\n",
      "Working on image  6\n",
      "Working on image  7\n",
      "Working on image  8\n",
      "Working on image  9\n",
      "Working on image  10\n",
      "Working on image  11\n",
      "Working on image  12\n",
      "Working on image  13\n",
      "Working on image  14\n",
      "Working on image  15\n",
      "Working on image  16\n",
      "On orbit  orbit3\n",
      "Working on image  0\n",
      "Working on image  1\n",
      "Working on image  2\n",
      "Working on image  3\n",
      "Working on image  4\n",
      "Working on image  5\n",
      "Working on image  6\n",
      "Working on image  7\n",
      "Working on image  8\n",
      "Working on image  9\n",
      "Working on image  10\n",
      "Working on image  11\n",
      "Working on image  12\n",
      "Working on image  13\n",
      "Working on image  14\n",
      "Working on image  15\n",
      "Working on image  16\n",
      "On orbit  orbit4\n",
      "Working on image  0\n",
      "Working on image  1\n",
      "Working on image  2\n",
      "Working on image  3\n",
      "Working on image  4\n",
      "Working on image  5\n",
      "Working on image  6\n",
      "Working on image  7\n",
      "Working on image  8\n",
      "Working on image  9\n",
      "Working on image  10\n",
      "Working on image  11\n",
      "Working on image  12\n",
      "Working on image  13\n",
      "Working on image  14\n",
      "Working on image  15\n",
      "Working on image  16\n"
     ]
    }
   ],
   "source": [
    "for orbit in datapaths['visit3']:\n",
    "    # Going through each orbit in the visit\n",
    "    #    reminder: we're only using visit 3's data\n",
    "    print('On orbit ', orbit)\n",
    "#     if orbit != 'orbit2':\n",
    "#         continue\n",
    "    \n",
    "    ######################################################\n",
    "    # STEP 1 - Load in the direct image for this orbit\n",
    "    #          and compute the wavelength solution\n",
    "    direct_image_path = datapaths['visit3'][orbit]['direct']\n",
    "    # compute the parameters of the wavelength solution:\n",
    "    wavesolution = hst.WavelengthSolution(direct_image_path) \n",
    "    # find the start & end values of the pixel range over which our spectrum is placed on the image\n",
    "    min_wavelength = 11250  # [Angstrom]\n",
    "    max_wavelength = 16500  # [Angstrom]\n",
    "    dpixelrange = hst.GetExtractRange(min_wavelength, max_wavelength, direct_image_path, 0)\n",
    "    \n",
    "    ######################################################\n",
    "    # STEP 2 - Go through each grism exposure in this orbit\n",
    "    # Creating some arrays to contain the data of each grism exposure\n",
    "    Nimages = len(datapaths['visit3'][orbit]['grism'])\n",
    "    image_1Dspectra = [ [] for _ in range(Nimages)]\n",
    "    image_broadbands = np.zeros(Nimages)\n",
    "    for image in range(Nimages):\n",
    "        # Just using the first image for now, to get things working\n",
    "#         if image != 0:\n",
    "#             continue\n",
    "        print('Working on image ',image)\n",
    "        \n",
    "        ###################################################\n",
    "        # STEP 3 - Separate out each sub-exposure within this image\n",
    "        subexp_details = hst.CreateSubExps(datapaths['visit3'][orbit]['grism'][image], wavesolution)\n",
    "        subexp_images = subexp_details[0]       # Array containing each sub-exposure's image array\n",
    "        subexp_times = subexp_details[1]        # Array containing the time of each sub exposure [BJD TDB]\n",
    "        subexp_badpixmasks = subexp_details[2]  # Array containing each sub-exposure's bad pixel mask\n",
    "        subexp_dataqualities = subexp_details[3]\n",
    "        subexp_scandirs = subexp_details[4]     # Array containing the scan direction of each sub-exposure\n",
    "        subexp_shifts = subexp_details[6]       # not sure what this is!\n",
    "        \n",
    "        Nsubexps = subexp_images.shape[0]\n",
    "        \n",
    "        ###################################################\n",
    "        # STEP 4 - Subtract out the background flux on each sub-exposure image\n",
    "        bksub_details = hst.BkgdSub(subexp_images, subexp_badpixmasks, subexp_scandirs)\n",
    "        bsub_subexp_images = bksub_details[0]  # each background subtracted sub-exposure image\n",
    "        bsub_subexp_bkvals = bksub_details[1]  # background values of each sub-exposure\n",
    "        bsub_subexp_bkerrs = bksub_details[2]  # uncertainty on above\n",
    "        \n",
    "        #*#*#*\n",
    "        # note: here, I can add in function to set negative pixels to zero\n",
    "        # will skip for now\n",
    "        #*#*#*\n",
    "        \n",
    "        ###################################################\n",
    "        # STEP 5 - Flat-field each background subtracted sub-exposure image\n",
    "        # Path to the appropriate flat-field calibration image\n",
    "        flatimg = '/home/matthew/data/hd219666b/calibrations/WFC3.IR.G141.flat.2.fits'\n",
    "        flat_subexp_images = hst.FlatField(flatimg, bsub_subexp_images, wavesolution, subexp_shifts)\n",
    "        \n",
    "        ##################################################\n",
    "        # STEP 6 - Go through each sub-exposure so we can extract its data\n",
    "        #          and then combine them into this grism image's data\n",
    "        # First, need to create some arrays to contain the data of each sub-exposure\n",
    "        #       for later combining\n",
    "        subexp_1Dspectra = [ [] for _ in range(Nsubexps)]\n",
    "        subexp_broadbands = np.zeros(Nsubexps)\n",
    "        for subexp in range(Nsubexps):\n",
    "#             if subexp != 0:\n",
    "#                 continue\n",
    "            # Getting this sub-exposure's image (post- flat fielding)\n",
    "            img = flat_subexp_images[subexp]\n",
    "            rawimg = subexp_images[subexp]\n",
    "            dqimg = subexp_dataqualities[subexp]\n",
    "            \n",
    "            ##############################################\n",
    "            # STEP 7 - Cutting out only the part of the image where the spectrum is...\n",
    "            # \n",
    "            # recall 'dpixelrange' contains the left- and right-most pixel of the spectrum (as floats)\n",
    "            # guessing the dispersion pixel in the middle of the spectrum, to use to find the y-range of the spectrum\n",
    "            mid_dpixel = int(np.rint(np.median(dpixelrange)))\n",
    "            # roughly computing the scan pixel in the middle of the spectrum\n",
    "            mid_spixel = int(np.rint(np.average(np.arange(img.shape[0]), weights=img[:,mid_dpixel])))\n",
    "            # defining our cut-out box\n",
    "            bottom, top = mid_spixel - 20, mid_spixel + 20\n",
    "            left, right = int(dpixelrange[0] - 10), int(dpixelrange[1] + 10)\n",
    "            # now cutting out the spectrum\n",
    "            spec2D = img[bottom:top, left:right]      # the cutout spectrum\n",
    "            rawspec2D = rawimg[bottom:top, left:right] \n",
    "            dq2D = dqimg[bottom:top, left:right]\n",
    "            scanpixels = np.arange(spec2D.shape[0])   # pixels along scan axis\n",
    "            disppixels = np.arange(spec2D.shape[1])   # pixels along dispersion axis            \n",
    " \n",
    "            ###########################################\n",
    "            # STEP 8 - Correcting bad pixels\n",
    "            # standard data quality flag values\n",
    "            # note - some pixels have DQ flags not shown below, as a consequence of\n",
    "            #        being flagged by multiple affects\n",
    "            #        the resulting flag is a bitwise addition of the constituent flag values\n",
    "            dq_flag_vals = [1,2,4,8,16,32,64,128,256,512,1024,2048,4096,8192,16384]\n",
    "            # these non-standard DQ flags are most present in the spectra\n",
    "            # so I'll focus only on correcting them!\n",
    "            \n",
    "            # I'll run the correction row-by-row (i.e. down the scan direction)\n",
    "            Nrows = spec2D.shape[0]  # number of scan rows in the cut-out spectrum\n",
    "                  \n",
    "            # Plotting the raw cut-out 2D spectrum, pre- background subtraction and pre-flat fielding\n",
    "            # in order to compare to post-correction\n",
    "#             print('Subexposure ', subexp)\n",
    "#             print('Raw 2D spectrum:')\n",
    "#             plt.imshow(rawspec2D, origin='lower', vmin=0)\n",
    "#             plt.xlabel('Dispersion pixels')\n",
    "#             plt.ylabel('Scan pixels')\n",
    "#             plt.show()\n",
    "            \n",
    "            # Now running the correction on the non-standard DQ flagged pixels\n",
    "            Niters = 5    # number of iterations of correction to run through\n",
    "                          # multiple iterations helps when bad pixels are grouped together\n",
    "            for iteration in range(Niters):\n",
    "                for scanrow in range(Nrows):\n",
    "                    bad_dq_idxs = np.where(dq2D[scanrow, :] != 0)[0]\n",
    "                    for bp in bad_dq_idxs:\n",
    "                        if int(dq2D[scanrow, bp]) not in dq_flag_vals:\n",
    "                            # We only want those with non-standard flags\n",
    "                            if int(dq2D[scanrow, bp]) == 48:\n",
    "                                # There's a lot of non-standard flags of DQ = 48\n",
    "                                # which aren't causing issues, so ignore them\n",
    "                                pass\n",
    "                            else:\n",
    "                                try:\n",
    "                                    # Set pixel to the median of pixels above and below it\n",
    "                                    spec2D[scanrow, bp] = np.median((spec2D[scanrow+1, bp], spec2D[scanrow-1, bp]))\n",
    "                                except IndexError:\n",
    "                                    # it'll throw an index error if on the edge of the cut-out image\n",
    "                                    # in which case, it's a pixel we don't care about\n",
    "                                    pass\n",
    "                        else:\n",
    "                            # If we get a standard flag, ignore it ...\n",
    "                            pass\n",
    "\n",
    "#             print('Bkgd subtracted & Flat fielded 2D spectrum')\n",
    "#             print('Post bad pixel corrections:')\n",
    "#             plt.imshow(spec2D, origin='lower', vmin=0)\n",
    "#             plt.xlabel('Dispersion Pixels')\n",
    "#             plt.ylabel('Scan Pixels')\n",
    "#             plt.show()\n",
    "            \n",
    "            ###########################################\n",
    "            # STEP 9 - Fitting the spectral trace\n",
    "            #\n",
    "            # Array of the scan pixel value of the flux-weighted mean along each dispersion column\n",
    "            centerlocs = np.zeros((spec2D.shape[1]))\n",
    "            # getting the scan pixel location of the flux-weighted mean along each dispersion column\n",
    "            for dpixel in disppixels:\n",
    "                centerlocs[dpixel] = np.average(scanpixels, weights=spec2D[:,dpixel])\n",
    "            # fitting a polynomial to these flux-weighted mean locations\n",
    "            a, m, b = np.polyfit(disppixels, centerlocs, deg=2)\n",
    "            # computing the spectral trace (i.e. the above polynomial fit)\n",
    "            spectrace = a*disppixels**2 + m*disppixels + b\n",
    "        \n",
    "            \n",
    "            ############################################\n",
    "            # STEP 10 - Extracting the 1D spectrum\n",
    "            # I'll extract the 1D spectrum by summing along each dispersion column\n",
    "            #     within a box centred upon the spectral trace\n",
    "            box_halfheight = 14  # extraction box half-height in [pixels] along scan direction\n",
    "            \n",
    "            # computing box limits to plot for visualization\n",
    "            box_low = spectrace - box_halfheight\n",
    "            box_high = spectrace + box_halfheight\n",
    "#             print('Spectral Trace and Extraction box:')\n",
    "#             plt.imshow(spec2D, origin='lower', vmin=0)\n",
    "#             plt.plot(disppixels, spectrace, c='red', lw=2)\n",
    "#             plt.plot(disppixels, box_low, ls='--', c='red')\n",
    "#             plt.plot(disppixels, box_high, ls='--', c='red')\n",
    "#             plt.xlabel('Dispersion Pixels')\n",
    "#             plt.ylabel('Scan Pixels')\n",
    "#             plt.show()            \n",
    "            \n",
    "            spec1D = np.zeros(len(disppixels))\n",
    "            for i, dpixel in enumerate(disppixels):\n",
    "                box_lowerlim = np.rint(spectrace[i] - box_halfheight)\n",
    "                box_upperlim = np.rint(spectrace[i] + box_halfheight)\n",
    "                box = spec2D[int(box_lowerlim):int(box_upperlim), i]\n",
    "                spec1D[i] = np.sum(box)\n",
    "                \n",
    "#             print('1D Spectrum:')\n",
    "#             plt.plot(disppixels, spec1D)\n",
    "#             plt.xlabel('Dispersion Pixels')\n",
    "#             plt.ylabel(r'Sum over Scan Column [$e^-$]')\n",
    "#             plt.show()\n",
    "            \n",
    "            # Appending this to our collection array\n",
    "            subexp_1Dspectra[subexp] = np.append(subexp_1Dspectra[subexp], spec1D)\n",
    "            \n",
    "            ###########################################\n",
    "            # STEP 11 - Extracting the broadband flux value\n",
    "            broadband = np.sum(spec1D)\n",
    "            # appending this to our collection array\n",
    "            subexp_broadbands[subexp] = broadband\n",
    "            \n",
    "        #################################\n",
    "        # STEP 12 - Combining the sub-exposure data\n",
    "        #     into that of the whole exposure\n",
    "        # Will do this just by summing them\n",
    "        # (note, i'm ignoring the errors for now)\n",
    "        # Combining the 1D spectra\n",
    "        arr_subexp_1Dspectra = np.asarray(subexp_1Dspectra)\n",
    "        image_1Dspectra[image] = np.sum(arr_subexp_1Dspectra, axis=0) \n",
    "        # Combining the broadband flux\n",
    "        image_broadbands[image] = np.sum(subexp_broadbands)\n",
    "        \n",
    "        # Appending to results\n",
    "        exdict['visit3'][orbit]['spectrum'][image] = np.sum(arr_subexp_1Dspectra, axis=0) \n",
    "        exdict['visit3'][orbit]['broadband'][image] = np.sum(subexp_broadbands)\n",
    "            \n"
   ]
  },
  {
   "cell_type": "code",
   "execution_count": 62,
   "metadata": {},
   "outputs": [],
   "source": [
    "#exdict['visit3']['orbit4']['spectrum'][1]"
   ]
  },
  {
   "cell_type": "code",
   "execution_count": 6,
   "metadata": {},
   "outputs": [],
   "source": [
    "# saving the dictionary containing the results\n",
    "save = True\n",
    "if save:\n",
    "    np.savez('reduced_data_dict.npz', dictionary=exdict)"
   ]
  },
  {
   "cell_type": "code",
   "execution_count": 61,
   "metadata": {},
   "outputs": [
    {
     "data": {
      "image/png": "[encoded data removed]",
      "text/plain": [
       "<Figure size 576x288 with 1 Axes>"
      ]
     },
     "metadata": {
      "needs_background": "light"
     },
     "output_type": "display_data"
    }
   ],
   "source": [
    "fig, ax = plt.subplots(figsize=(8,4))\n",
    "for spectrum in exdict['visit3']['orbit2']['spectrum']:\n",
    "    plt.plot(disppixels, spectrum)\n",
    "plt.xlabel('Dispersion Pixels [pix]')\n",
    "plt.ylabel(r'Sum over Scan Columns [$e^-$]')\n",
    "plt.text(0.74, 0.95, 'Orbit 2', transform=ax.transAxes)\n",
    "plt.ylim((4.e6))\n",
    "plt.show()"
   ]
  },
  {
   "cell_type": "markdown",
   "metadata": {},
   "source": [
    "Below is old testing code..."
   ]
  },
  {
   "cell_type": "code",
   "execution_count": 11,
   "metadata": {},
   "outputs": [
    {
     "data": {
      "image/png": "[encoded data removed]",
      "text/plain": [
       "<Figure size 576x288 with 1 Axes>"
      ]
     },
     "metadata": {
      "needs_background": "light"
     },
     "output_type": "display_data"
    }
   ],
   "source": [
    "fig, ax = plt.subplots(figsize=(8,4))\n",
    "for spectrum in subexp_1Dspectra:\n",
    "    plt.plot(disppixels, spectrum)\n",
    "plt.xlabel('Dispersion Pixels [pix]')\n",
    "plt.ylabel(r'Sum over Scan Columns [$e^-$]')\n",
    "plt.text(0.74, 0.95, 'Orbit 2', transform=ax.transAxes)\n",
    "plt.text(0.74, 0.9, 'Image 0 Subexposures', transform=ax.transAxes)\n",
    "plt.ylim((300000, 510000))\n",
    "plt.show()"
   ]
  },
  {
   "cell_type": "code",
   "execution_count": 12,
   "metadata": {},
   "outputs": [],
   "source": [
    "# One of Thomas' sub-exposure 1D spectra\n",
    "# from orbit 2, image 0, subexposure 0\n",
    "Tspec = np.loadtxt('thomas_images/1D_Spec_v1.dat', unpack=True, usecols=[0])\n",
    "Tspecx = np.arange(len(Tspec))"
   ]
  },
  {
   "cell_type": "code",
   "execution_count": 20,
   "metadata": {},
   "outputs": [
    {
     "data": {
      "text/plain": [
       "[<matplotlib.lines.Line2D at 0x7f09af3dde50>]"
      ]
     },
     "execution_count": 20,
     "metadata": {},
     "output_type": "execute_result"
    },
    {
     "data": {
      "image/png": "[encoded data removed]",
      "text/plain": [
       "<Figure size 432x288 with 1 Axes>"
      ]
     },
     "metadata": {
      "needs_background": "light"
     },
     "output_type": "display_data"
    }
   ],
   "source": [
    "plt.plot(disppixels, subexp_1Dspectra[2])\n",
    "plt.plot(Tspecx[12:135]-12, Tspec[12:135])"
   ]
  },
  {
   "cell_type": "code",
   "execution_count": null,
   "metadata": {},
   "outputs": [],
   "source": []
  }
 ],
 "metadata": {
  "kernelspec": {
   "display_name": "Python 3",
   "language": "python",
   "name": "python3"
  },
  "language_info": {
   "codemirror_mode": {
    "name": "ipython",
    "version": 3
   },
   "file_extension": ".py",
   "mimetype": "text/x-python",
   "name": "python",
   "nbconvert_exporter": "python",
   "pygments_lexer": "ipython3",
   "version": "3.8.8"
  }
 },
 "nbformat": 4,
 "nbformat_minor": 4
}
