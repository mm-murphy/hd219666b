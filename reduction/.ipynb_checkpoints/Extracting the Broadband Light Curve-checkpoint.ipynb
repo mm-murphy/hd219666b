{
 "cells": [
  {
   "cell_type": "code",
   "execution_count": 1,
   "metadata": {},
   "outputs": [],
   "source": [
    "import numpy as np\n",
    "import matplotlib.pyplot as plt\n",
    "from astropy.io import fits\n",
    "from scipy.interpolate import interp1d\n",
    "from HST_Extract_Funcs import CreateSubExps, WavelengthSolution  # Used to pull image data"
   ]
  },
  {
   "cell_type": "code",
   "execution_count": 2,
   "metadata": {},
   "outputs": [],
   "source": [
    "# loading in the broadband values from the image extraction notebook\n",
    "exfile = np.load('reduced_data_dict.npz', allow_pickle=True)\n",
    "exdict = exfile['dictionary'].item()\n",
    "\n",
    "# we're only doing visit 3 for now\n",
    "bbflux_orbit1 = np.asarray(exdict['visit3']['orbit1']['broadband'])\n",
    "bbflux_orbit2 = np.asarray(exdict['visit3']['orbit2']['broadband'])\n",
    "bbflux_orbit3 = np.asarray(exdict['visit3']['orbit3']['broadband'])\n",
    "bbflux_orbit4 = np.asarray(exdict['visit3']['orbit4']['broadband'])\n",
    "\n",
    "bbunc_orbit1 = np.asarray(exdict['visit3']['orbit1']['broadband_uncs'])\n",
    "bbunc_orbit2 = np.asarray(exdict['visit3']['orbit2']['broadband_uncs'])\n",
    "bbunc_orbit3 = np.asarray(exdict['visit3']['orbit3']['broadband_uncs'])\n",
    "bbunc_orbit4 = np.asarray(exdict['visit3']['orbit4']['broadband_uncs'])"
   ]
  },
  {
   "cell_type": "code",
   "execution_count": 4,
   "metadata": {},
   "outputs": [],
   "source": [
    "# I need to loop through all the images, get the times of each of their sub-exposures\n",
    "#   and then average them to get the image's time\n",
    "\n",
    "time_orbit1 = np.zeros(len(bbflux_orbit1))\n",
    "time_orbit2 = np.zeros(len(bbflux_orbit2))\n",
    "time_orbit3 = np.zeros(len(bbflux_orbit3))\n",
    "time_orbit4 = np.zeros(len(bbflux_orbit4))\n",
    "\n",
    "scandir_orbit1 = np.zeros(len(bbflux_orbit1))\n",
    "scandir_orbit2 = np.zeros(len(bbflux_orbit2))\n",
    "scandir_orbit3 = np.zeros(len(bbflux_orbit3))\n",
    "scandir_orbit4 = np.zeros(len(bbflux_orbit4))\n",
    "\n",
    "# First loading in the data paths to the image files\n",
    "FPload = np.load('FilePaths.npz', allow_pickle=True)\n",
    "datapaths = FPload['filedict'].item()   # dictionary containing paths to the image files\n",
    "del FPload\n",
    "\n",
    "for orbit in datapaths['visit3']:\n",
    "    # Going through each orbit in the visit\n",
    "    Nimages = len(datapaths['visit3'][orbit]['grism'])\n",
    "    orbits_imagetimes = np.zeros(Nimages)\n",
    "    directimage_path = datapaths['visit3'][orbit]['direct']\n",
    "    wavesolution = WavelengthSolution(directimage_path)\n",
    "    \n",
    "    for image in range(Nimages):\n",
    "\n",
    "        subexposure_details = CreateSubExps(datapaths['visit3'][orbit]['grism'][image], wavesolution)\n",
    "        subexposure_times = subexposure_details[1]\n",
    "        image_scandir = subexposure_details[4]\n",
    "        image_time = np.median(subexposure_times)\n",
    "        \n",
    "        if orbit == 'orbit1':\n",
    "            time_orbit1[image] = image_time\n",
    "            scandir_orbit1[image] = image_scandir\n",
    "        elif orbit == 'orbit2':\n",
    "            time_orbit2[image] = image_time\n",
    "            scandir_orbit2[image] = image_scandir\n",
    "        elif orbit == 'orbit3':\n",
    "            time_orbit3[image] = image_time\n",
    "            scandir_orbit3[image] = image_scandir\n",
    "        elif orbit == 'orbit4':\n",
    "            time_orbit4[image] = image_time\n",
    "            scandir_orbit4[image] = image_scandir            \n"
   ]
  },
  {
   "cell_type": "code",
   "execution_count": 5,
   "metadata": {},
   "outputs": [],
   "source": [
    "scan0_orbit1_idxs, scan1_orbit1_idxs = np.where(scandir_orbit1 == 0)[0], np.where(scandir_orbit1 == 1)[0]\n",
    "scan0_orbit2_idxs, scan1_orbit2_idxs = np.where(scandir_orbit2 == 0)[0], np.where(scandir_orbit2 == 1)[0]\n",
    "scan0_orbit3_idxs, scan1_orbit3_idxs = np.where(scandir_orbit3 == 0)[0], np.where(scandir_orbit3 == 1)[0]\n",
    "scan0_orbit4_idxs, scan1_orbit4_idxs = np.where(scandir_orbit4 == 0)[0], np.where(scandir_orbit4 == 1)[0]"
   ]
  },
  {
   "cell_type": "code",
   "execution_count": 9,
   "metadata": {},
   "outputs": [
    {
     "data": {
      "image/png": "[encoded data removed]",
      "text/plain": [
       "<Figure size 576x432 with 1 Axes>"
      ]
     },
     "metadata": {
      "needs_background": "light"
     },
     "output_type": "display_data"
    }
   ],
   "source": [
    "# Plotting our raw broadband light curve\n",
    "fig, ax = plt.subplots(figsize=(8,6))\n",
    "\n",
    "# Plotting orbit 1 values\n",
    "ax.errorbar(time_orbit1[scan0_orbit1_idxs], bbflux_orbit1[scan0_orbit1_idxs], yerr=bbunc_orbit1[scan0_orbit1_idxs], \n",
    "           c='blue', marker='s', ms=5, ls='None')\n",
    "ax.errorbar(time_orbit1[scan1_orbit1_idxs], bbflux_orbit1[scan1_orbit1_idxs], yerr=bbunc_orbit1[scan1_orbit1_idxs], \n",
    "           c='red', marker='o', ms=5, ls='None')\n",
    "\n",
    "# Plotting orbit 2 values\n",
    "ax.errorbar(time_orbit2[scan0_orbit2_idxs], bbflux_orbit2[scan0_orbit2_idxs], yerr=bbunc_orbit2[scan0_orbit2_idxs], \n",
    "           c='blue', marker='s', ms=5, ls='None', label='Scan Direction = 0')\n",
    "ax.errorbar(time_orbit2[scan1_orbit2_idxs], bbflux_orbit2[scan1_orbit2_idxs], yerr=bbunc_orbit2[scan1_orbit2_idxs], \n",
    "           c='red', marker='o', ms=5, ls='None', label='Scan Direction = 1')\n",
    "\n",
    "# Plotting orbit 3 values\n",
    "ax.errorbar(time_orbit3[scan0_orbit3_idxs], bbflux_orbit3[scan0_orbit3_idxs], yerr=bbunc_orbit3[scan0_orbit3_idxs], \n",
    "           c='blue', marker='s', ms=5, ls='None')\n",
    "ax.errorbar(time_orbit3[scan1_orbit3_idxs], bbflux_orbit3[scan1_orbit3_idxs], yerr=bbunc_orbit3[scan1_orbit3_idxs], \n",
    "           c='red', marker='o', ms=5, ls='None')\n",
    "\n",
    "# Plotting orbit 4 values\n",
    "ax.errorbar(time_orbit4[scan0_orbit4_idxs], bbflux_orbit4[scan0_orbit4_idxs], yerr=bbunc_orbit4[scan0_orbit4_idxs], \n",
    "           c='blue', marker='s', ms=5, ls='None')\n",
    "ax.errorbar(time_orbit4[scan1_orbit4_idxs], bbflux_orbit4[scan1_orbit4_idxs], yerr=bbunc_orbit4[scan1_orbit4_idxs], \n",
    "           c='red', marker='o', ms=5, ls='None')\n",
    "\n",
    "\n",
    "ax.legend(loc='lower right', fontsize=10)\n",
    "ax.set_xlabel('Time [MJD?]', fontsize=12)\n",
    "ax.set_ylabel('Band-Integrated Counts', fontsize=12)\n",
    "plt.savefig('unnormalized_broadband_lightcurve.png', dpi=350, bbox_inches='tight')\n",
    "plt.show()"
   ]
  },
  {
   "cell_type": "code",
   "execution_count": 10,
   "metadata": {},
   "outputs": [],
   "source": [
    "# Normalizing the Data\n",
    "# I'll normalize it to orbit 2, in anticipation of removing orbit 1's data\n",
    "median_bbflux_orbit2_scan0 = max(bbflux_orbit2[scan0_orbit2_idxs])\n",
    "median_bbflux_orbit2_scan1 = max(bbflux_orbit2[scan1_orbit2_idxs])\n",
    "\n",
    "# Normalizing orbit 1\n",
    "bbnflux_orbit1 = np.zeros(len(bbflux_orbit1))\n",
    "bbnunc_orbit1 = np.zeros(len(bbunc_orbit1))\n",
    "for i, time in enumerate(time_orbit1):\n",
    "    if scandir_orbit1[i] == 0:\n",
    "        bbnflux_orbit1[i] = bbflux_orbit1[i] / median_bbflux_orbit2_scan0\n",
    "        bbnunc_orbit1[i] = bbunc_orbit1[i] / median_bbflux_orbit2_scan0\n",
    "    elif scandir_orbit1[i] == 1:\n",
    "        bbnflux_orbit1[i] = bbflux_orbit1[i] / median_bbflux_orbit2_scan1\n",
    "        bbnunc_orbit1[i] = bbunc_orbit1[i] / median_bbflux_orbit2_scan1\n",
    "\n",
    "# Normalizing orbit 2\n",
    "bbnflux_orbit2 = np.zeros(len(bbflux_orbit2))\n",
    "bbnunc_orbit2 = np.zeros(len(bbunc_orbit2))\n",
    "for i, time in enumerate(time_orbit2):\n",
    "    if scandir_orbit2[i] == 0:\n",
    "        bbnflux_orbit2[i] = bbflux_orbit2[i] / median_bbflux_orbit2_scan0\n",
    "        bbnunc_orbit2[i] = bbunc_orbit2[i] / median_bbflux_orbit2_scan0\n",
    "    elif scandir_orbit2[i] == 1:\n",
    "        bbnflux_orbit2[i] = bbflux_orbit2[i] / median_bbflux_orbit2_scan1\n",
    "        bbnunc_orbit2[i] = bbunc_orbit2[i] / median_bbflux_orbit2_scan1\n",
    "        \n",
    "# Normalizing orbit 3\n",
    "bbnflux_orbit3 = np.zeros(len(bbflux_orbit3))\n",
    "bbnunc_orbit3 = np.zeros(len(bbunc_orbit3))\n",
    "for i, time in enumerate(time_orbit3):\n",
    "    if scandir_orbit3[i] == 0:\n",
    "        bbnflux_orbit3[i] = bbflux_orbit3[i] / median_bbflux_orbit2_scan0\n",
    "        bbnunc_orbit3[i] = bbunc_orbit3[i] / median_bbflux_orbit2_scan0\n",
    "    elif scandir_orbit3[i] == 1:\n",
    "        bbnflux_orbit3[i] = bbflux_orbit3[i] / median_bbflux_orbit2_scan1\n",
    "        bbnunc_orbit3[i] = bbunc_orbit3[i] / median_bbflux_orbit2_scan1\n",
    "        \n",
    "# Normalizing orbit 4\n",
    "bbnflux_orbit4 = np.zeros(len(bbflux_orbit4))\n",
    "bbnunc_orbit4 = np.zeros(len(bbunc_orbit4))\n",
    "for i, time in enumerate(time_orbit4):\n",
    "    if scandir_orbit4[i] == 0:\n",
    "        bbnflux_orbit4[i] = bbflux_orbit4[i] / median_bbflux_orbit2_scan0\n",
    "        bbnunc_orbit4[i] = bbunc_orbit4[i] / median_bbflux_orbit2_scan0\n",
    "    elif scandir_orbit4[i] == 1:\n",
    "        bbnflux_orbit4[i] = bbflux_orbit4[i] / median_bbflux_orbit2_scan1\n",
    "        bbnunc_orbit4[i] = bbunc_orbit4[i] / median_bbflux_orbit2_scan1        "
   ]
  },
  {
   "cell_type": "code",
   "execution_count": 11,
   "metadata": {},
   "outputs": [
    {
     "data": {
      "image/png": "[encoded data removed]",
      "text/plain": [
       "<Figure size 576x432 with 1 Axes>"
      ]
     },
     "metadata": {
      "needs_background": "light"
     },
     "output_type": "display_data"
    }
   ],
   "source": [
    "# Plotting our raw broadband light curve\n",
    "fig, ax = plt.subplots(figsize=(8,6))\n",
    "\n",
    "# Plotting orbit 1 values\n",
    "ax.errorbar(time_orbit1, bbnflux_orbit1, yerr=bbnunc_orbit1, \n",
    "           c='black', marker='o', ms=5, ls='None')\n",
    "# Plotting orbit 2 values\n",
    "ax.errorbar(time_orbit2, bbnflux_orbit2, yerr=bbnunc_orbit2, \n",
    "           c='black', marker='o', ms=5, ls='None')\n",
    "# Plotting orbit 3 values\n",
    "ax.errorbar(time_orbit3, bbnflux_orbit3, yerr=bbnunc_orbit3, \n",
    "           c='black', marker='o', ms=5, ls='None')\n",
    "# Plotting orbit 4 values\n",
    "ax.errorbar(time_orbit4, bbnflux_orbit4, yerr=bbnunc_orbit4, \n",
    "           c='black', marker='o', ms=5, ls='None')\n",
    "\n",
    "#ax.legend(loc='lower right', fontsize=10)\n",
    "ax.set_xlabel('Time [MJD?]', fontsize=12)\n",
    "ax.set_ylabel('Normalized Band-Integrated Counts', fontsize=12)\n",
    "plt.savefig('normalized_broadband_lightcurve.png', dpi=350, bbox_inches='tight')\n",
    "plt.show()"
   ]
  },
  {
   "cell_type": "code",
   "execution_count": 12,
   "metadata": {},
   "outputs": [],
   "source": [
    "save_data = True\n",
    "if save_data:\n",
    "\n",
    "    filename = '/home/matthew/data/hd219666b/reduced_data/broadband_lightcurve.dat'\n",
    "    file = open(filename, 'w')\n",
    "    file.write('# Broadband (Band-integrated) Light Curve of HD 219666b Transit \\n')\n",
    "    file.write('# Visit 3, Orbit 1:')\n",
    "    file.write('# Time [MJD; From HST image header], Normalized Flux, Normalized Flux Uncertainty \\n')\n",
    "    for i, time in enumerate(time_orbit1):\n",
    "        file.write(str(time_orbit1[i]))\n",
    "        file.write(' ')\n",
    "        file.write(str(bbnflux_orbit1[i]))\n",
    "        file.write(' ')\n",
    "        file.write(str(bbnunc_orbit1[i]))\n",
    "        file.write('\\n')\n",
    "    file.write('# Visit 3, Orbit 2:')\n",
    "    file.write('# Time [MJD; From HST image header], Normalized Flux, Normalized Flux Uncertainty \\n')        \n",
    "    for i, time in enumerate(time_orbit2):\n",
    "        file.write(str(time_orbit2[i]))\n",
    "        file.write(' ')\n",
    "        file.write(str(bbnflux_orbit2[i]))\n",
    "        file.write(' ')\n",
    "        file.write(str(bbnunc_orbit2[i]))\n",
    "        file.write('\\n')\n",
    "    file.write('# Visit 3, Orbit 3:')\n",
    "    file.write('# Time [MJD; From HST image header], Normalized Flux, Normalized Flux Uncertainty \\n')        \n",
    "    for i, time in enumerate(time_orbit3):\n",
    "        file.write(str(time_orbit3[i]))\n",
    "        file.write(' ')\n",
    "        file.write(str(bbnflux_orbit3[i]))\n",
    "        file.write(' ')\n",
    "        file.write(str(bbnunc_orbit3[i]))\n",
    "        file.write('\\n')\n",
    "    file.write('# Visit 3, Orbit 4:')\n",
    "    file.write('# Time [MJD; From HST image header], Normalized Flux, Normalized Flux Uncertainty \\n')        \n",
    "    for i, time in enumerate(time_orbit4):\n",
    "        file.write(str(time_orbit4[i]))\n",
    "        file.write(' ')\n",
    "        file.write(str(bbnflux_orbit4[i]))\n",
    "        file.write(' ')\n",
    "        file.write(str(bbnunc_orbit4[i]))\n",
    "        file.write('\\n')        \n",
    "        \n",
    "    file.close()"
   ]
  },
  {
   "cell_type": "code",
   "execution_count": null,
   "metadata": {},
   "outputs": [],
   "source": []
  }
 ],
 "metadata": {
  "kernelspec": {
   "display_name": "Python 3",
   "language": "python",
   "name": "python3"
  },
  "language_info": {
   "codemirror_mode": {
    "name": "ipython",
    "version": 3
   },
   "file_extension": ".py",
   "mimetype": "text/x-python",
   "name": "python",
   "nbconvert_exporter": "python",
   "pygments_lexer": "ipython3",
   "version": "3.8.8"
  }
 },
 "nbformat": 4,
 "nbformat_minor": 4
}
