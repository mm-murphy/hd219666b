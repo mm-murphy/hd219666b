{
 "cells": [
  {
   "cell_type": "code",
   "execution_count": 1,
   "metadata": {},
   "outputs": [
    {
     "name": "stdout",
     "output_type": "stream",
     "text": [
      "['/home/mmmurphy/inquiry/hd219666b/reduction', '/usr/lib/python38.zip', '/usr/lib/python3.8', '/usr/lib/python3.8/lib-dynload', '', '/home/mmmurphy/.local/lib/python3.8/site-packages', '/usr/local/lib/python3.8/dist-packages', '/usr/lib/python3/dist-packages', '/home/mmmurphy/anaconda3/lib/python3.8/site-packages']\n"
     ]
    }
   ],
   "source": [
    "# Importing modules we need:\n",
    "import numpy as np\n",
    "import matplotlib.pyplot as plt\n",
    "import astropy\n",
    "import astropy.convolution as ac\n",
    "from astropy.io import fits\n",
    "# Importing HST extraction functions\n",
    "#import HST_Extract_Funcs as hst\n",
    "import HST_extraction as ext"
   ]
  },
  {
   "cell_type": "code",
   "execution_count": 2,
   "metadata": {},
   "outputs": [],
   "source": [
    "FPload = np.load('FilePaths.npz', allow_pickle=True)\n",
    "datapaths = FPload['filedict'].item()   # dictionary containing paths to the image files"
   ]
  },
  {
   "cell_type": "code",
   "execution_count": 3,
   "metadata": {},
   "outputs": [
    {
     "name": "stdout",
     "output_type": "stream",
     "text": [
      "On orbit  orbit2\n",
      "Working on image  0\n",
      "[0.         0.13301057 0.26602114 0.39903172 0.53204229 0.66505286\n",
      " 0.79806343 0.931074   1.06408458 1.19709515 1.33010572 1.46311629\n",
      " 1.59612686 1.72913744]\n"
     ]
    }
   ],
   "source": [
    "for orbit in datapaths['visit3']:\n",
    "    # Going through each orbit in the visit\n",
    "    #    reminder: we're only using visit 3's data\n",
    "    if orbit != 'orbit2':\n",
    "        continue\n",
    "        ...\n",
    "    print('On orbit ', orbit)\n",
    "    \n",
    "    ######################################################\n",
    "    # STEP 1 - Load in the direct image for this orbit\n",
    "    #          and compute the wavelength solution\n",
    "    direct_image_path = datapaths['visit3'][orbit]['direct']\n",
    "    # compute the parameters of the wavelength solution:\n",
    "    wavesolution = ext.WavelengthSolution(direct_image_path) \n",
    "    # find the start & end values of the pixel range over which our spectrum is placed on the image\n",
    "    min_wavelength = 9708   # Min wavelength of response function, [Angstrom]\n",
    "    max_wavelength = 17904\n",
    "    extractrange = ext.GetExtractRange(min_wavelength, max_wavelength, direct_image_path, 0)\n",
    "    \n",
    "    ######################################################\n",
    "    # STEP 2 - Go through each grism exposure in this orbit\n",
    "    # Creating some arrays to contain the data of each grism exposure\n",
    "    Nimages = len(datapaths['visit3'][orbit]['grism'])\n",
    "    orbit_1Dspectra = [ [] for _ in range(Nimages)]        # 1D spectra of each image\n",
    "    orbit_1Dspectra_uncs = [ [] for _ in range(Nimages)]   # 1D spectral errors of each image\n",
    "    orbit_broadbands = np.zeros(Nimages)                   # Band-integrated flux of each image\n",
    "    orbit_broadbands_uncs = np.zeros(Nimages)              # Band-integrated flux error of each image\n",
    "    orbit_times = np.zeros(Nimages)\n",
    "    for image in range(Nimages):\n",
    "        if image != 0:\n",
    "            continue\n",
    "            ...\n",
    "        print('Working on image ',image)\n",
    "        \n",
    "        ###################################################\n",
    "        # STEP 3 - Separate out each sub-exposure within this image\n",
    "        subexp_details = ext.CreateSubExps(datapaths['visit3'][orbit]['grism'][image], wavesolution)\n",
    "        subexp_images = subexp_details[0]        # Array containing each sub-exposure's image array\n",
    "        subexp_times = subexp_details[1]         # Array containing the time of each sub exposure [BJD TDB]\n",
    "        subexp_badpixmasks = subexp_details[2]   # Array containing each sub-exposure's bad pixel mask\n",
    "        subexp_dataqualities = subexp_details[3] # Array containing DQ flags on each sub-exposure\n",
    "        subexp_scandirs = subexp_details[4]      # Array containing the scan direction of each sub-exposure\n",
    "        subexp_shifts = subexp_details[6]        # Array containing shifting [in pixels] along dispersion direction of each sub-exposure\n",
    "        Nsubexps = subexp_images.shape[0]        # Number of sub-exposures in this image\n",
    "        orbit_times[image] = np.median(subexp_times)\n",
    "        \n",
    "        print(subexp_shifts)\n",
    "        # to add in function:\n",
    "#         scan_length_asec = img[SCAN_LEN]  # length of scan in [arcsec]\n",
    "#         platescale = 0.13 # [arcsec / pixel]\n",
    "#         scan_length_pix = scan_length_asec / platescale\n",
    "        \n",
    "        ###################################################\n",
    "        # STEP 4 - Subtract out the background flux on each sub-exposure image\n",
    "        bksub_details = ext.BkgdSub(subexp_images, subexp_badpixmasks, subexp_scandirs)\n",
    "        bsub_subexp_images = bksub_details[0]  # each background subtracted sub-exposure image\n",
    "        bsub_subexp_bkvals = bksub_details[1]  # background values of each sub-exposure\n",
    "        bsub_subexp_bkerrs = bksub_details[2]  # uncertainty on above\n",
    "        \n",
    "        ###################################################\n",
    "        # STEP 5 - Flat-field each background subtracted sub-exposure image\n",
    "        # Path to the appropriate flat-field calibration image:\n",
    "        flatimg = '/home/mmmurphy/data/hd219666b/calibrations/WFC3.IR.G141.flat.2.fits'\n",
    "        flat_subexp_images = ext.FlatField(flatimg, bsub_subexp_images, wavesolution, subexp_shifts)\n",
    "        \n",
    "        \n",
    "        ###################################################\n",
    "        # STEP 6a - Extract the 2D target spectrum\n",
    "        if (orbit=='orbit2') and (image==13):\n",
    "            twoDspectra, boxCoords = ext.cutout2Dspectrum(flat_subexp_images, extractrange, 15, 5, returnCoords=True, manualOverride='o2i13')\n",
    "        else:\n",
    "            twoDspectra, boxCoords = ext.cutout2Dspectrum(flat_subexp_images, extractrange, 15, 5, returnCoords=True)\n"
   ]
  },
  {
   "cell_type": "code",
   "execution_count": null,
   "metadata": {},
   "outputs": [],
   "source": []
  }
 ],
 "metadata": {
  "kernelspec": {
   "display_name": "Python 3",
   "language": "python",
   "name": "python3"
  },
  "language_info": {
   "codemirror_mode": {
    "name": "ipython",
    "version": 3
   },
   "file_extension": ".py",
   "mimetype": "text/x-python",
   "name": "python",
   "nbconvert_exporter": "python",
   "pygments_lexer": "ipython3",
   "version": "3.8.10"
  }
 },
 "nbformat": 4,
 "nbformat_minor": 4
}
